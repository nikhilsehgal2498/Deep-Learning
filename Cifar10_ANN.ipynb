{
 "cells": [
  {
   "cell_type": "code",
   "execution_count": 1,
   "id": "36f98b73",
   "metadata": {},
   "outputs": [],
   "source": [
    "#The CIFAR-10 dataset(Canadian Institute For Advanced Research)is a collection of images,contains 60000(32x32)color \n",
    "#                                                                                                 images in 10 different classes\n",
    "\n",
    "# classes = ['airplane', 'automobile', 'bird', 'cat', 'deer', 'dog', 'frog', 'horse', 'ship', 'truck']"
   ]
  },
  {
   "cell_type": "code",
   "execution_count": 2,
   "id": "8feb98ee",
   "metadata": {},
   "outputs": [
    {
     "name": "stderr",
     "output_type": "stream",
     "text": [
      "C:\\Users\\HP\\anaconda3\\lib\\site-packages\\scipy\\__init__.py:146: UserWarning: A NumPy version >=1.16.5 and <1.23.0 is required for this version of SciPy (detected version 1.23.5\n",
      "  warnings.warn(f\"A NumPy version >={np_minversion} and <{np_maxversion}\"\n"
     ]
    }
   ],
   "source": [
    "import tensorflow as tf\n",
    "from tensorflow import keras\n",
    "import matplotlib.pyplot as py\n",
    "%matplotlib inline\n",
    "import seaborn as sns"
   ]
  },
  {
   "cell_type": "code",
   "execution_count": 3,
   "id": "ece736cd",
   "metadata": {},
   "outputs": [],
   "source": [
    "# importing the dataset\n",
    "\n",
    "(X_train, y_train), (X_test, y_test) = keras.datasets.cifar10.load_data()"
   ]
  },
  {
   "cell_type": "code",
   "execution_count": 4,
   "id": "b2af8abf",
   "metadata": {},
   "outputs": [
    {
     "data": {
      "text/plain": [
       "(50000, 32, 32, 3)"
      ]
     },
     "execution_count": 4,
     "metadata": {},
     "output_type": "execute_result"
    }
   ],
   "source": [
    "X_train.shape"
   ]
  },
  {
   "cell_type": "code",
   "execution_count": 5,
   "id": "d0a446bc",
   "metadata": {},
   "outputs": [
    {
     "data": {
      "text/plain": [
       "(10000, 32, 32, 3)"
      ]
     },
     "execution_count": 5,
     "metadata": {},
     "output_type": "execute_result"
    }
   ],
   "source": [
    "X_test.shape"
   ]
  },
  {
   "cell_type": "code",
   "execution_count": 6,
   "id": "3ab0c220",
   "metadata": {},
   "outputs": [
    {
     "data": {
      "text/plain": [
       "array([[[ 59,  62,  63],\n",
       "        [ 43,  46,  45],\n",
       "        [ 50,  48,  43],\n",
       "        ...,\n",
       "        [158, 132, 108],\n",
       "        [152, 125, 102],\n",
       "        [148, 124, 103]],\n",
       "\n",
       "       [[ 16,  20,  20],\n",
       "        [  0,   0,   0],\n",
       "        [ 18,   8,   0],\n",
       "        ...,\n",
       "        [123,  88,  55],\n",
       "        [119,  83,  50],\n",
       "        [122,  87,  57]],\n",
       "\n",
       "       [[ 25,  24,  21],\n",
       "        [ 16,   7,   0],\n",
       "        [ 49,  27,   8],\n",
       "        ...,\n",
       "        [118,  84,  50],\n",
       "        [120,  84,  50],\n",
       "        [109,  73,  42]],\n",
       "\n",
       "       ...,\n",
       "\n",
       "       [[208, 170,  96],\n",
       "        [201, 153,  34],\n",
       "        [198, 161,  26],\n",
       "        ...,\n",
       "        [160, 133,  70],\n",
       "        [ 56,  31,   7],\n",
       "        [ 53,  34,  20]],\n",
       "\n",
       "       [[180, 139,  96],\n",
       "        [173, 123,  42],\n",
       "        [186, 144,  30],\n",
       "        ...,\n",
       "        [184, 148,  94],\n",
       "        [ 97,  62,  34],\n",
       "        [ 83,  53,  34]],\n",
       "\n",
       "       [[177, 144, 116],\n",
       "        [168, 129,  94],\n",
       "        [179, 142,  87],\n",
       "        ...,\n",
       "        [216, 184, 140],\n",
       "        [151, 118,  84],\n",
       "        [123,  92,  72]]], dtype=uint8)"
      ]
     },
     "execution_count": 6,
     "metadata": {},
     "output_type": "execute_result"
    }
   ],
   "source": [
    "X_train[0]"
   ]
  },
  {
   "cell_type": "code",
   "execution_count": 7,
   "id": "74c22a04",
   "metadata": {
    "scrolled": true
   },
   "outputs": [
    {
     "data": {
      "text/plain": [
       "array([[6],\n",
       "       [9],\n",
       "       [9],\n",
       "       [4],\n",
       "       [1]], dtype=uint8)"
      ]
     },
     "execution_count": 7,
     "metadata": {},
     "output_type": "execute_result"
    }
   ],
   "source": [
    "y_train[0:5]"
   ]
  },
  {
   "cell_type": "code",
   "execution_count": 8,
   "id": "5b745e3d",
   "metadata": {},
   "outputs": [],
   "source": [
    "classes = ['airplane', 'automobile', 'bird', 'cat', 'deer', 'dog', 'frog', 'horse', 'ship', 'truck']"
   ]
  },
  {
   "cell_type": "code",
   "execution_count": 9,
   "id": "86919b9a",
   "metadata": {},
   "outputs": [],
   "source": [
    "def img_show(index):\n",
    "    py.figure(figsize= (10,1))\n",
    "    py.imshow(X_train[index])\n",
    "    py.xlabel(classes[y_train[index][0]])"
   ]
  },
  {
   "cell_type": "code",
   "execution_count": 10,
   "id": "a39ec885",
   "metadata": {},
   "outputs": [
    {
     "data": {
      "image/png": "[encoded data removed]",
      "text/plain": [
       "<Figure size 720x72 with 1 Axes>"
      ]
     },
     "metadata": {
      "needs_background": "light"
     },
     "output_type": "display_data"
    }
   ],
   "source": [
    "img_show(3)"
   ]
  },
  {
   "cell_type": "code",
   "execution_count": 11,
   "id": "a4cb3e83",
   "metadata": {},
   "outputs": [
    {
     "data": {
      "image/png": "[encoded data removed]",
      "text/plain": [
       "<Figure size 720x72 with 1 Axes>"
      ]
     },
     "metadata": {
      "needs_background": "light"
     },
     "output_type": "display_data"
    }
   ],
   "source": [
    "img_show(5)"
   ]
  },
  {
   "cell_type": "code",
   "execution_count": 12,
   "id": "02b99c7d",
   "metadata": {},
   "outputs": [
    {
     "data": {
      "text/plain": [
       "'deer'"
      ]
     },
     "execution_count": 12,
     "metadata": {},
     "output_type": "execute_result"
    }
   ],
   "source": [
    "classes[y_train[3][0]]"
   ]
  },
  {
   "cell_type": "code",
   "execution_count": 13,
   "id": "1417fc7f",
   "metadata": {},
   "outputs": [],
   "source": [
    "# preprocessing the data as dividing by 255 bcz RGB values lies between 0 and 255"
   ]
  },
  {
   "cell_type": "code",
   "execution_count": 14,
   "id": "39d3bbfb",
   "metadata": {},
   "outputs": [],
   "source": [
    "X_train_scaled = X_train/255\n",
    "X_test_scaled = X_test/255"
   ]
  },
  {
   "cell_type": "code",
   "execution_count": 15,
   "id": "d4af080e",
   "metadata": {},
   "outputs": [],
   "source": [
    "# doing One Hot Encoding as its showing values in y_train like.. y_train[3] showing 4. "
   ]
  },
  {
   "cell_type": "code",
   "execution_count": 16,
   "id": "df42c9af",
   "metadata": {},
   "outputs": [
    {
     "data": {
      "text/plain": [
       "array([[6],\n",
       "       [9],\n",
       "       [9],\n",
       "       [4],\n",
       "       [1]], dtype=uint8)"
      ]
     },
     "execution_count": 16,
     "metadata": {},
     "output_type": "execute_result"
    }
   ],
   "source": [
    "y_train[0:5]"
   ]
  },
  {
   "cell_type": "code",
   "execution_count": 17,
   "id": "4cb90978",
   "metadata": {},
   "outputs": [
    {
     "data": {
      "text/plain": [
       "array([[0., 0., 0., 0., 0., 0., 1., 0., 0., 0.],\n",
       "       [0., 0., 0., 0., 0., 0., 0., 0., 0., 1.],\n",
       "       [0., 0., 0., 0., 0., 0., 0., 0., 0., 1.],\n",
       "       [0., 0., 0., 0., 1., 0., 0., 0., 0., 0.],\n",
       "       [0., 1., 0., 0., 0., 0., 0., 0., 0., 0.]], dtype=float32)"
      ]
     },
     "execution_count": 17,
     "metadata": {},
     "output_type": "execute_result"
    }
   ],
   "source": [
    "y_train_categorical = keras.utils.to_categorical(\n",
    "                y_train, num_classes=10, dtype= 'float32'\n",
    ")\n",
    "y_train_categorical[0:5]"
   ]
  },
  {
   "cell_type": "code",
   "execution_count": 18,
   "id": "b42d5761",
   "metadata": {},
   "outputs": [
    {
     "data": {
      "text/plain": [
       "array([[0., 0., 0., 1., 0., 0., 0., 0., 0., 0.],\n",
       "       [0., 0., 0., 0., 0., 0., 0., 0., 1., 0.],\n",
       "       [0., 0., 0., 0., 0., 0., 0., 0., 1., 0.],\n",
       "       [1., 0., 0., 0., 0., 0., 0., 0., 0., 0.],\n",
       "       [0., 0., 0., 0., 0., 0., 1., 0., 0., 0.]], dtype=float32)"
      ]
     },
     "execution_count": 18,
     "metadata": {},
     "output_type": "execute_result"
    }
   ],
   "source": [
    "y_test_categorical = keras.utils.to_categorical(\n",
    "                y_test, num_classes=10, dtype= 'float32'\n",
    ")\n",
    "\n",
    "y_test_categorical[0:5]"
   ]
  },
  {
   "cell_type": "code",
   "execution_count": 19,
   "id": "0ce8c1b0",
   "metadata": {},
   "outputs": [],
   "source": [
    "model = keras.Sequential([\n",
    "    keras.layers.Flatten(input_shape = (32,32,3)),\n",
    "    keras.layers.Dense(150, activation = 'relu'),\n",
    "    keras.layers.Dense(50, activation = 'relu'),\n",
    "    keras.layers.Dense(10, activation = 'sigmoid')\n",
    "])\n",
    "\n",
    "model.compile(\n",
    "        optimizer = 'adam', \n",
    "        loss = 'categorical_crossentropy',\n",
    "        metrics = ['accuracy']\n",
    ")"
   ]
  },
  {
   "cell_type": "code",
   "execution_count": 20,
   "id": "3c327f78",
   "metadata": {},
   "outputs": [
    {
     "name": "stdout",
     "output_type": "stream",
     "text": [
      "Epoch 1/12\n",
      "1563/1563 [==============================] - 6s 3ms/step - loss: 1.9087 - accuracy: 0.3087\n",
      "Epoch 2/12\n",
      "1563/1563 [==============================] - 5s 3ms/step - loss: 1.7246 - accuracy: 0.3814\n",
      "Epoch 3/12\n",
      "1563/1563 [==============================] - 5s 3ms/step - loss: 1.6626 - accuracy: 0.4046\n",
      "Epoch 4/12\n",
      "1563/1563 [==============================] - 5s 3ms/step - loss: 1.6154 - accuracy: 0.4217\n",
      "Epoch 5/12\n",
      "1563/1563 [==============================] - 5s 3ms/step - loss: 1.5812 - accuracy: 0.4332\n",
      "Epoch 6/12\n",
      "1563/1563 [==============================] - 5s 3ms/step - loss: 1.5617 - accuracy: 0.4390\n",
      "Epoch 7/12\n",
      "1563/1563 [==============================] - 5s 3ms/step - loss: 1.5387 - accuracy: 0.4499\n",
      "Epoch 8/12\n",
      "1563/1563 [==============================] - 5s 3ms/step - loss: 1.5201 - accuracy: 0.4556\n",
      "Epoch 9/12\n",
      "1563/1563 [==============================] - 5s 3ms/step - loss: 1.5033 - accuracy: 0.4616\n",
      "Epoch 10/12\n",
      "1563/1563 [==============================] - 5s 3ms/step - loss: 1.4965 - accuracy: 0.4637\n",
      "Epoch 11/12\n",
      "1563/1563 [==============================] - 5s 3ms/step - loss: 1.4844 - accuracy: 0.4685\n",
      "Epoch 12/12\n",
      "1563/1563 [==============================] - 5s 3ms/step - loss: 1.4692 - accuracy: 0.4735\n"
     ]
    },
    {
     "data": {
      "text/plain": [
       "<keras.callbacks.History at 0x25d26f96d90>"
      ]
     },
     "execution_count": 20,
     "metadata": {},
     "output_type": "execute_result"
    }
   ],
   "source": [
    "model.fit(X_train_scaled, y_train_categorical, epochs=12)"
   ]
  },
  {
   "cell_type": "code",
   "execution_count": 21,
   "id": "fd9ed872",
   "metadata": {},
   "outputs": [
    {
     "name": "stdout",
     "output_type": "stream",
     "text": [
      "313/313 [==============================] - 1s 1ms/step - loss: 1.5236 - accuracy: 0.4627\n"
     ]
    },
    {
     "data": {
      "text/plain": [
       "[1.5235590934753418, 0.4627000093460083]"
      ]
     },
     "execution_count": 21,
     "metadata": {},
     "output_type": "execute_result"
    }
   ],
   "source": [
    "model.evaluate(X_test_scaled, y_test_categorical)"
   ]
  },
  {
   "cell_type": "code",
   "execution_count": 22,
   "id": "040821cb",
   "metadata": {},
   "outputs": [],
   "source": [
    "# now model is trained, perform some predictions"
   ]
  },
  {
   "cell_type": "code",
   "execution_count": 23,
   "id": "f9c74fde",
   "metadata": {},
   "outputs": [
    {
     "data": {
      "text/plain": [
       "6"
      ]
     },
     "execution_count": 23,
     "metadata": {},
     "output_type": "execute_result"
    }
   ],
   "source": [
    "import numpy as np\n",
    "\n",
    "np.argmax(model.predict(X_test_scaled)[5])"
   ]
  },
  {
   "cell_type": "code",
   "execution_count": 24,
   "id": "f8444673",
   "metadata": {},
   "outputs": [
    {
     "data": {
      "text/plain": [
       "'frog'"
      ]
     },
     "execution_count": 24,
     "metadata": {},
     "output_type": "execute_result"
    }
   ],
   "source": [
    "# predicted res\n",
    "classes[np.argmax(model.predict(X_test_scaled)[5])]"
   ]
  },
  {
   "cell_type": "code",
   "execution_count": 25,
   "id": "f3da5914",
   "metadata": {},
   "outputs": [
    {
     "data": {
      "text/plain": [
       "'frog'"
      ]
     },
     "execution_count": 25,
     "metadata": {},
     "output_type": "execute_result"
    }
   ],
   "source": [
    "# actual res\n",
    "classes[y_test[5][0]]"
   ]
  },
  {
   "cell_type": "code",
   "execution_count": null,
   "id": "8d100576",
   "metadata": {},
   "outputs": [],
   "source": []
  }
 ],
 "metadata": {
  "kernelspec": {
   "display_name": "Python 3 (ipykernel)",
   "language": "python",
   "name": "python3"
  },
  "language_info": {
   "codemirror_mode": {
    "name": "ipython",
    "version": 3
   },
   "file_extension": ".py",
   "mimetype": "text/x-python",
   "name": "python",
   "nbconvert_exporter": "python",
   "pygments_lexer": "ipython3",
   "version": "3.9.7"
  }
 },
 "nbformat": 4,
 "nbformat_minor": 5
}
