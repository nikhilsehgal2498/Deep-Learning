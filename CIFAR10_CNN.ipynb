{
 "cells": [
  {
   "cell_type": "code",
   "execution_count": 1,
   "id": "8f535641",
   "metadata": {},
   "outputs": [],
   "source": [
    "import pandas as pd\n",
    "import numpy as np\n",
    "import tensorflow as tf\n",
    "from tensorflow import keras\n",
    "import matplotlib.pyplot as py\n",
    "%matplotlib inline\n",
    "import seaborn as sns"
   ]
  },
  {
   "cell_type": "code",
   "execution_count": 2,
   "id": "2d0d6882",
   "metadata": {},
   "outputs": [],
   "source": [
    "(X_train, y_train), (X_test, y_test) = keras.datasets.cifar10.load_data()"
   ]
  },
  {
   "cell_type": "code",
   "execution_count": 3,
   "id": "822b6d7b",
   "metadata": {},
   "outputs": [
    {
     "data": {
      "text/plain": [
       "(50000, 32, 32, 3)"
      ]
     },
     "execution_count": 3,
     "metadata": {},
     "output_type": "execute_result"
    }
   ],
   "source": [
    "X_train.shape"
   ]
  },
  {
   "cell_type": "code",
   "execution_count": 4,
   "id": "baa02f14",
   "metadata": {},
   "outputs": [
    {
     "data": {
      "text/plain": [
       "array([[[ 59,  62,  63],\n",
       "        [ 43,  46,  45],\n",
       "        [ 50,  48,  43],\n",
       "        ...,\n",
       "        [158, 132, 108],\n",
       "        [152, 125, 102],\n",
       "        [148, 124, 103]],\n",
       "\n",
       "       [[ 16,  20,  20],\n",
       "        [  0,   0,   0],\n",
       "        [ 18,   8,   0],\n",
       "        ...,\n",
       "        [123,  88,  55],\n",
       "        [119,  83,  50],\n",
       "        [122,  87,  57]],\n",
       "\n",
       "       [[ 25,  24,  21],\n",
       "        [ 16,   7,   0],\n",
       "        [ 49,  27,   8],\n",
       "        ...,\n",
       "        [118,  84,  50],\n",
       "        [120,  84,  50],\n",
       "        [109,  73,  42]],\n",
       "\n",
       "       ...,\n",
       "\n",
       "       [[208, 170,  96],\n",
       "        [201, 153,  34],\n",
       "        [198, 161,  26],\n",
       "        ...,\n",
       "        [160, 133,  70],\n",
       "        [ 56,  31,   7],\n",
       "        [ 53,  34,  20]],\n",
       "\n",
       "       [[180, 139,  96],\n",
       "        [173, 123,  42],\n",
       "        [186, 144,  30],\n",
       "        ...,\n",
       "        [184, 148,  94],\n",
       "        [ 97,  62,  34],\n",
       "        [ 83,  53,  34]],\n",
       "\n",
       "       [[177, 144, 116],\n",
       "        [168, 129,  94],\n",
       "        [179, 142,  87],\n",
       "        ...,\n",
       "        [216, 184, 140],\n",
       "        [151, 118,  84],\n",
       "        [123,  92,  72]]], dtype=uint8)"
      ]
     },
     "execution_count": 4,
     "metadata": {},
     "output_type": "execute_result"
    }
   ],
   "source": [
    "X_train[0]"
   ]
  },
  {
   "cell_type": "code",
   "execution_count": 5,
   "id": "e4731dda",
   "metadata": {
    "scrolled": true
   },
   "outputs": [
    {
     "data": {
      "text/plain": [
       "<matplotlib.image.AxesImage at 0x1add165f1c0>"
      ]
     },
     "execution_count": 5,
     "metadata": {},
     "output_type": "execute_result"
    },
    {
     "data": {
      "image/png": "[encoded data removed]",
      "text/plain": [
       "<Figure size 720x144 with 1 Axes>"
      ]
     },
     "metadata": {
      "needs_background": "light"
     },
     "output_type": "display_data"
    }
   ],
   "source": [
    "py.figure(figsize = (10,2))\n",
    "py.imshow(X_train[3])"
   ]
  },
  {
   "cell_type": "code",
   "execution_count": 6,
   "id": "07cb17f2",
   "metadata": {},
   "outputs": [],
   "source": [
    "classes = ['airplane', 'automobile', 'bird', 'cat', 'deer', 'dog', 'frog', 'horse', 'ship', 'truck']"
   ]
  },
  {
   "cell_type": "code",
   "execution_count": 7,
   "id": "da000afa",
   "metadata": {},
   "outputs": [],
   "source": [
    "def get_fig(x,index):\n",
    "    py.figure(figsize = (10,2))\n",
    "    py.imshow(x[index])\n",
    "    py.xlabel(classes[y_train[index][0]])"
   ]
  },
  {
   "cell_type": "code",
   "execution_count": 8,
   "id": "661aa1b3",
   "metadata": {},
   "outputs": [
    {
     "data": {
      "image/png": "[encoded data removed]",
      "text/plain": [
       "<Figure size 720x144 with 1 Axes>"
      ]
     },
     "metadata": {
      "needs_background": "light"
     },
     "output_type": "display_data"
    }
   ],
   "source": [
    "get_fig(X_train, 5)"
   ]
  },
  {
   "cell_type": "code",
   "execution_count": 9,
   "id": "b6658819",
   "metadata": {},
   "outputs": [],
   "source": [
    "X_train_scaled = X_train/255\n",
    "X_test_scaled = X_test/255"
   ]
  },
  {
   "cell_type": "code",
   "execution_count": 10,
   "id": "12b671f3",
   "metadata": {},
   "outputs": [
    {
     "data": {
      "text/plain": [
       "array([[0., 0., 0., 0., 0., 0., 1., 0., 0., 0.],\n",
       "       [0., 0., 0., 0., 0., 0., 0., 0., 0., 1.],\n",
       "       [0., 0., 0., 0., 0., 0., 0., 0., 0., 1.]])"
      ]
     },
     "execution_count": 10,
     "metadata": {},
     "output_type": "execute_result"
    }
   ],
   "source": [
    "y_train_categorical = keras.utils.to_categorical(\n",
    "            y_train, num_classes = 10, dtype = 'float'\n",
    ")\n",
    "y_train_categorical[:3]"
   ]
  },
  {
   "cell_type": "code",
   "execution_count": 11,
   "id": "82cf8a19",
   "metadata": {},
   "outputs": [
    {
     "data": {
      "text/plain": [
       "array([[0., 0., 0., 1., 0., 0., 0., 0., 0., 0.],\n",
       "       [0., 0., 0., 0., 0., 0., 0., 0., 1., 0.],\n",
       "       [0., 0., 0., 0., 0., 0., 0., 0., 1., 0.]])"
      ]
     },
     "execution_count": 11,
     "metadata": {},
     "output_type": "execute_result"
    }
   ],
   "source": [
    "y_test_categorical = keras.utils.to_categorical(\n",
    "            y_test, num_classes = 10, dtype = 'float'\n",
    ")\n",
    "y_test_categorical[:3]"
   ]
  },
  {
   "cell_type": "code",
   "execution_count": 12,
   "id": "6fa9b57a",
   "metadata": {},
   "outputs": [],
   "source": [
    "# Ann Model"
   ]
  },
  {
   "cell_type": "code",
   "execution_count": 13,
   "id": "e80751f9",
   "metadata": {},
   "outputs": [
    {
     "name": "stdout",
     "output_type": "stream",
     "text": [
      "Epoch 1/8\n",
      "1563/1563 [==============================] - 13s 7ms/step - loss: 1.8556 - accuracy: 0.3369\n",
      "Epoch 2/8\n",
      "1563/1563 [==============================] - 11s 7ms/step - loss: 1.6738 - accuracy: 0.4073\n",
      "Epoch 3/8\n",
      "1563/1563 [==============================] - 11s 7ms/step - loss: 1.5970 - accuracy: 0.4327\n",
      "Epoch 4/8\n",
      "1563/1563 [==============================] - 11s 7ms/step - loss: 1.5423 - accuracy: 0.4531\n",
      "Epoch 5/8\n",
      "1563/1563 [==============================] - 11s 7ms/step - loss: 1.4966 - accuracy: 0.4711\n",
      "Epoch 6/8\n",
      "1563/1563 [==============================] - 11s 7ms/step - loss: 1.4573 - accuracy: 0.4833\n",
      "Epoch 7/8\n",
      "1563/1563 [==============================] - 11s 7ms/step - loss: 1.4231 - accuracy: 0.4954\n",
      "Epoch 8/8\n",
      "1563/1563 [==============================] - 12s 8ms/step - loss: 1.3958 - accuracy: 0.5064\n"
     ]
    },
    {
     "data": {
      "text/plain": [
       "<keras.callbacks.History at 0x1ae29bffd30>"
      ]
     },
     "execution_count": 13,
     "metadata": {},
     "output_type": "execute_result"
    }
   ],
   "source": [
    "ann_model = keras.Sequential([\n",
    "    keras.layers.Flatten(input_shape = (32,32,3)),\n",
    "    keras.layers.Dense(500, activation = 'relu'),\n",
    "    keras.layers.Dense(100, activation = 'relu'),\n",
    "    keras.layers.Dense(10, activation = 'sigmoid')\n",
    "])\n",
    "\n",
    "ann_model.compile(\n",
    "        optimizer = 'SGD',\n",
    "        metrics = ['accuracy'],\n",
    "        loss = 'categorical_crossentropy'\n",
    ")\n",
    "\n",
    "ann_model.fit(X_train_scaled, y_train_categorical, epochs= 8)"
   ]
  },
  {
   "cell_type": "code",
   "execution_count": 14,
   "id": "7d9e17cb",
   "metadata": {},
   "outputs": [
    {
     "name": "stdout",
     "output_type": "stream",
     "text": [
      "313/313 [==============================] - 2s 5ms/step - loss: 1.5909 - accuracy: 0.4552\n"
     ]
    },
    {
     "data": {
      "text/plain": [
       "[1.5909212827682495, 0.4551999866962433]"
      ]
     },
     "execution_count": 14,
     "metadata": {},
     "output_type": "execute_result"
    }
   ],
   "source": [
    "ann_model.evaluate(X_test_scaled, y_test_categorical)"
   ]
  },
  {
   "cell_type": "code",
   "execution_count": 15,
   "id": "93149b15",
   "metadata": {},
   "outputs": [
    {
     "name": "stdout",
     "output_type": "stream",
     "text": [
      "              precision    recall  f1-score   support\n",
      "\n",
      "           0       0.72      0.33      0.45      1000\n",
      "           1       0.42      0.77      0.54      1000\n",
      "           2       0.40      0.36      0.38      1000\n",
      "           3       0.39      0.26      0.31      1000\n",
      "           4       0.39      0.46      0.42      1000\n",
      "           5       0.52      0.27      0.35      1000\n",
      "           6       0.59      0.46      0.52      1000\n",
      "           7       0.71      0.36      0.48      1000\n",
      "           8       0.52      0.65      0.58      1000\n",
      "           9       0.34      0.64      0.44      1000\n",
      "\n",
      "    accuracy                           0.46     10000\n",
      "   macro avg       0.50      0.46      0.45     10000\n",
      "weighted avg       0.50      0.46      0.45     10000\n",
      "\n"
     ]
    }
   ],
   "source": [
    "from sklearn.metrics import classification_report\n",
    "\n",
    "pred = ann_model.predict(X_test_scaled)\n",
    "pred_res = [np.argmax(i) for i in pred]\n",
    "\n",
    "print(classification_report(y_test, pred_res))"
   ]
  },
  {
   "cell_type": "code",
   "execution_count": 16,
   "id": "084003c8",
   "metadata": {},
   "outputs": [],
   "source": [
    "# Implementing CNN"
   ]
  },
  {
   "cell_type": "code",
   "execution_count": 18,
   "id": "8c0899bf",
   "metadata": {
    "scrolled": true
   },
   "outputs": [
    {
     "name": "stdout",
     "output_type": "stream",
     "text": [
      "Epoch 1/8\n",
      "1563/1563 [==============================] - 37s 23ms/step - loss: 1.4817 - accuracy: 0.4694\n",
      "Epoch 2/8\n",
      "1563/1563 [==============================] - 36s 23ms/step - loss: 1.1202 - accuracy: 0.6080\n",
      "Epoch 3/8\n",
      "1563/1563 [==============================] - 36s 23ms/step - loss: 0.9884 - accuracy: 0.6553\n",
      "Epoch 4/8\n",
      "1563/1563 [==============================] - 36s 23ms/step - loss: 0.9039 - accuracy: 0.6861\n",
      "Epoch 5/8\n",
      "1563/1563 [==============================] - 35s 23ms/step - loss: 0.8423 - accuracy: 0.7071\n",
      "Epoch 6/8\n",
      "1563/1563 [==============================] - 36s 23ms/step - loss: 0.7914 - accuracy: 0.7248\n",
      "Epoch 7/8\n",
      "1563/1563 [==============================] - 36s 23ms/step - loss: 0.7445 - accuracy: 0.7405\n",
      "Epoch 8/8\n",
      "1563/1563 [==============================] - 35s 23ms/step - loss: 0.7032 - accuracy: 0.7552\n"
     ]
    },
    {
     "data": {
      "text/plain": [
       "<keras.callbacks.History at 0x1ae58f79d90>"
      ]
     },
     "execution_count": 18,
     "metadata": {},
     "output_type": "execute_result"
    }
   ],
   "source": [
    "cnn_model = keras.Sequential([\n",
    "    \n",
    "    # convocolational layer \n",
    "    keras.layers.Conv2D(filters = 32, kernel_size = (3,3), activation = 'relu', input_shape = (32,32,3)),\n",
    "    keras.layers.MaxPooling2D((2,2)),\n",
    "    \n",
    "    keras.layers.Conv2D(filters = 64, kernel_size = (3,3), activation = 'relu'),\n",
    "    keras.layers.MaxPooling2D((2,2)),\n",
    "    \n",
    "    \n",
    "    #dense n/w\n",
    "    keras.layers.Flatten(),\n",
    "    keras.layers.Dense(64, activation = 'relu'), \n",
    "    keras.layers.Dense(10, activation = 'softmax')\n",
    "])\n",
    "\n",
    "cnn_model.compile(\n",
    "        optimizer = 'adam', \n",
    "        metrics = ['accuracy'],\n",
    "        loss = 'categorical_crossentropy'\n",
    ")\n",
    "\n",
    "cnn_model.fit(X_train_scaled, y_train_categorical, epochs = 8)"
   ]
  },
  {
   "cell_type": "code",
   "execution_count": 19,
   "id": "631eb043",
   "metadata": {},
   "outputs": [
    {
     "name": "stdout",
     "output_type": "stream",
     "text": [
      "              precision    recall  f1-score   support\n",
      "\n",
      "           0       0.75      0.70      0.72      1000\n",
      "           1       0.90      0.70      0.79      1000\n",
      "           2       0.60      0.52      0.56      1000\n",
      "           3       0.49      0.54      0.51      1000\n",
      "           4       0.56      0.72      0.63      1000\n",
      "           5       0.60      0.58      0.59      1000\n",
      "           6       0.67      0.84      0.75      1000\n",
      "           7       0.83      0.66      0.73      1000\n",
      "           8       0.82      0.76      0.79      1000\n",
      "           9       0.73      0.82      0.77      1000\n",
      "\n",
      "    accuracy                           0.68     10000\n",
      "   macro avg       0.70      0.68      0.69     10000\n",
      "weighted avg       0.70      0.68      0.69     10000\n",
      "\n"
     ]
    }
   ],
   "source": [
    "from sklearn.metrics import classification_report\n",
    "\n",
    "pred = cnn_model.predict(X_test_scaled)\n",
    "pred_res = [np.argmax(i) for i in pred]\n",
    "\n",
    "print(classification_report(y_test, pred_res))"
   ]
  },
  {
   "cell_type": "code",
   "execution_count": null,
   "id": "f454d9a6",
   "metadata": {},
   "outputs": [],
   "source": []
  }
 ],
 "metadata": {
  "kernelspec": {
   "display_name": "Python 3 (ipykernel)",
   "language": "python",
   "name": "python3"
  },
  "language_info": {
   "codemirror_mode": {
    "name": "ipython",
    "version": 3
   },
   "file_extension": ".py",
   "mimetype": "text/x-python",
   "name": "python",
   "nbconvert_exporter": "python",
   "pygments_lexer": "ipython3",
   "version": "3.9.7"
  }
 },
 "nbformat": 4,
 "nbformat_minor": 5
}
